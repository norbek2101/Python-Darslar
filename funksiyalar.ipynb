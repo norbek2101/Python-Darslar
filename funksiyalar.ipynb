{
 "metadata": {
  "language_info": {
   "codemirror_mode": {
    "name": "ipython",
    "version": 3
   },
   "file_extension": ".py",
   "mimetype": "text/x-python",
   "name": "python",
   "nbconvert_exporter": "python",
   "pygments_lexer": "ipython3",
   "version": "3.8.5"
  },
  "orig_nbformat": 4,
  "kernelspec": {
   "name": "python3",
   "display_name": "Python 3.8.5 64-bit"
  },
  "interpreter": {
   "hash": "31f2aee4e71d21fbe5cf8b01ff0e069b9275f58929596ceb00d14d90e3e16cd6"
  }
 },
 "nbformat": 4,
 "nbformat_minor": 2,
 "cells": [
  {
   "cell_type": "code",
   "execution_count": 7,
   "metadata": {},
   "outputs": [
    {
     "output_type": "stream",
     "name": "stdout",
     "text": [
      "6\n"
     ]
    }
   ],
   "source": [
    "# 1) \n",
    "def kopaytir(*sonlar):\n",
    "    \"\"\" Sonlarni qabul qilib ularning ko'paytmasini qaytaruvchi funksiya \"\"\"\n",
    "    yigindi = 1\n",
    "    for son in sonlar:\n",
    "        yigindi*=son\n",
    "        \n",
    "    return yigindi\n",
    "\n",
    "r = kopaytir(1,2,3)\n",
    "print(r)\n"
   ]
  },
  {
   "cell_type": "code",
   "execution_count": 11,
   "metadata": {},
   "outputs": [
    {
     "output_type": "stream",
     "name": "stdout",
     "text": [
      "{'otasining_ismi': \"Akmal o'g'li\", 'ism': 'Norbek', 'familya': 'Qalandarov'}\n"
     ]
    }
   ],
   "source": [
    "# 2)\n",
    "def resume(ism, familya, **malumotlar):\n",
    "    \"\"\" Talabalar haqida ma'lumot qaytaruvchi funksiya \"\"\"\n",
    "    malumotlar['ism'] = ism\n",
    "    malumotlar['familya'] = familya\n",
    "    return malumotlar\n",
    "\n",
    "m = resume(\"Norbek\", \"Qalandarov\", otasining_ismi=\"Akmal o'g'li\")\n",
    "print(m)"
   ]
  },
  {
   "cell_type": "code",
   "execution_count": 14,
   "metadata": {},
   "outputs": [
    {
     "output_type": "stream",
     "name": "stdout",
     "text": [
      "21\n21\n"
     ]
    }
   ],
   "source": [
    "# 3  Write a Python function to find the Max of three numbers.\n",
    "def max_find(x,y,z):\n",
    "    \n",
    "    return max(x,y,z)\n",
    "\n",
    "print(max_find(12,21,11)) # First variant\n",
    "\n",
    "def max_of_three(a,b,c):\n",
    "    if a > b and a > c:\n",
    "        return a\n",
    "    elif a > b and a < c:\n",
    "        return c\n",
    "    elif b > a and b > c:\n",
    "        return b\n",
    "    elif b > a and b < c:\n",
    "        return c\n",
    "print(max_of_three(12,21,11))  #Second variant\n"
   ]
  },
  {
   "cell_type": "code",
   "execution_count": 17,
   "metadata": {},
   "outputs": [
    {
     "output_type": "stream",
     "name": "stdout",
     "text": [
      "20\n20\n"
     ]
    }
   ],
   "source": [
    "# 4) Write a Python function to sum all the numbers in a list.\n",
    "\n",
    "def sum_of_all(*nums):\n",
    "    sum1 = 0\n",
    "    for num in nums:\n",
    "        sum1 += num\n",
    "    return sum1\n",
    "print(sum_of_all(8,2,3,0,7)) # First variant\n",
    "\n",
    "def sumofall(*nums):\n",
    "    return sum(nums)\n",
    "\n",
    "print(sumofall(8,2,3,0,7))"
   ]
  },
  {
   "cell_type": "code",
   "execution_count": 21,
   "metadata": {},
   "outputs": [
    {
     "output_type": "stream",
     "name": "stdout",
     "text": [
      "-336\n"
     ]
    }
   ],
   "source": [
    "# 5) Write a Python function to multiply all the numbers in a list.\n",
    "\n",
    "def multp_in_list(lst):\n",
    "    res = 1\n",
    "    for l in lst:\n",
    "        res *= l\n",
    "    return res\n",
    "l = [8,2,3,-1,7]\n",
    "print(multp_in_list(l))\n",
    "    "
   ]
  },
  {
   "cell_type": "code",
   "execution_count": 41,
   "metadata": {},
   "outputs": [
    {
     "output_type": "stream",
     "name": "stdout",
     "text": [
      "dcba4321\ndcba4321\ndcba4321\ndcba4321\n"
     ]
    }
   ],
   "source": [
    "# 6 Write a Python program to reverse a string.\n",
    "def reverse(s):\n",
    "     s = s[::-1]\n",
    "     return s\n",
    "print(reverse('1234abcd'))  # First variant\n",
    "\n",
    "def reverse(s):\n",
    "     return ''.join(reversed(s))\n",
    "print(reverse('1234abcd'))  # Second variant\n",
    "\n",
    "\n",
    "def reverse(s):\n",
    "    start = stop = None\n",
    "    step = -1\n",
    "    reverse_slice = slice(start, stop, step)\n",
    "    return s[reverse_slice]\n",
    "print(reverse('1234abcd'))   # Third variant \n",
    "\n",
    "\n",
    "def reverse_a_string_more_slowly(a_string):\n",
    "    new_strings = []\n",
    "    index = len(a_string)\n",
    "    while index:\n",
    "        index -= 1                       \n",
    "        new_strings.append(a_string[index])\n",
    "    return ''.join(new_strings)\n",
    "\n",
    "\n",
    "print(reverse_a_string_more_slowly('1234abcd')) #Fourth variant\n"
   ]
  },
  {
   "cell_type": "code",
   "execution_count": 36,
   "metadata": {},
   "outputs": [],
   "source": [
    "# Best Practice\n",
    "# Theoretically better is to collect your substrings in a list, and join them later:\n",
    "\n",
    "# def reverse_a_string_more_slowly(a_string):\n",
    "#     new_strings = []\n",
    "#     index = len(a_string)\n",
    "#     while index:\n",
    "#         index -= 1                       \n",
    "#         new_strings.append(a_string[index])\n",
    "#     return ''.join(new_strings)\n",
    "\n",
    "\n",
    "# However, as we will see in the timings below for CPython, this actually takes longer, because CPython can optimize the string concatenation."
   ]
  },
  {
   "cell_type": "code",
   "execution_count": 74,
   "metadata": {},
   "outputs": [
    {
     "output_type": "stream",
     "name": "stdout",
     "text": [
      "120\n120\n"
     ]
    }
   ],
   "source": [
    "# 7) Write a Python function to calculate the factorial of a number (a non-negative integer). The function accepts the number as an argument.\n",
    "def factorial(n):\n",
    "    if n == 0:\n",
    "        return 1\n",
    "    else:\n",
    "        return n * factorial(n-1)\n",
    "n=int(input(\"Input a number to compute the factiorial : \"))\n",
    "print(factorial(n)) #First variant\n",
    "\n",
    "def factorial(n):\n",
    "    result = 1\n",
    "    y = n+1\n",
    "    k = n\n",
    "    for x in range (1, y):\n",
    "        k -= 1\n",
    "        result += result * k\n",
    "        if k == 1:\n",
    "            break\n",
    "    return result\n",
    "print(factorial(5)) #Second variant"
   ]
  }
 ]
}