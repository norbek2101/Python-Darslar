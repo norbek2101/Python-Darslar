{
 "metadata": {
  "language_info": {
   "codemirror_mode": {
    "name": "ipython",
    "version": 3
   },
   "file_extension": ".py",
   "mimetype": "text/x-python",
   "name": "python",
   "nbconvert_exporter": "python",
   "pygments_lexer": "ipython3",
   "version": "3.8.5"
  },
  "orig_nbformat": 4,
  "kernelspec": {
   "name": "python3",
   "display_name": "Python 3.8.5 64-bit"
  },
  "interpreter": {
   "hash": "31f2aee4e71d21fbe5cf8b01ff0e069b9275f58929596ceb00d14d90e3e16cd6"
  }
 },
 "nbformat": 4,
 "nbformat_minor": 2,
 "cells": [
  {
   "cell_type": "code",
   "execution_count": 7,
   "metadata": {},
   "outputs": [
    {
     "output_type": "stream",
     "name": "stdout",
     "text": [
      "6\n"
     ]
    }
   ],
   "source": [
    "# 1) \n",
    "def kopaytir(*sonlar):\n",
    "    \"\"\" Sonlarni qabul qilib ularning ko'paytmasini qaytaruvchi funksiya \"\"\"\n",
    "    yigindi = 1\n",
    "    for son in sonlar:\n",
    "        yigindi*=son\n",
    "        \n",
    "    return yigindi\n",
    "\n",
    "r = kopaytir(1,2,3)\n",
    "print(r)\n"
   ]
  },
  {
   "cell_type": "code",
   "execution_count": 10,
   "metadata": {},
   "outputs": [
    {
     "output_type": "stream",
     "name": "stdout",
     "text": [
      "{'otasining_ismi': \"Akmal o'g'li\", 'ism': 'Norbek', 'familya': 'Qalandarov'}\n"
     ]
    }
   ],
   "source": [
    "# 2)\n",
    "def resume(ism, familya, **malumotlar):\n",
    "    \"\"\" Talabalar haqida ma'lumot qaytaruvchi funksiya \"\"\"\n",
    "    malumotlar['ism'] = ism\n",
    "    malumotlar['familya'] = familya\n",
    "    return malumotlar\n",
    "\n",
    "m = resume(\"Norbek\", \"Qalandarov\", otasining_ismi=\"Akmal o'g'li\")\n",
    "print(m)"
   ]
  }
 ]
}